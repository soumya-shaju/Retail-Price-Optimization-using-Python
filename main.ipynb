{
 "cells": [
  {
   "cell_type": "code",
   "execution_count": null,
   "metadata": {},
   "outputs": [
    {
     "ename": "",
     "evalue": "",
     "output_type": "error",
     "traceback": [
      "\u001b[1;31mFailed to start the Kernel. \n",
      "View Jupyter <a href='command:jupyter.viewOutput'>log</a> for further details."
     ]
    }
   ],
   "source": [
    "import pandas as pd\n",
    "import plotly.express as px\n",
    "import plotly.graph_objects as go\n",
    "import plotly.io as pio\n",
    "pio.templates.default = \"plotly_white\"\n",
    "\n",
    "data = pd.read_csv('retail_price.csv')\n",
    "print(data.head())\n",
    "print(data.isnull().sum())\n",
    "print(data.describe())\n",
    "\n",
    "fig = px.histogram(data, \n",
    "                   x='total_price', \n",
    "                   nbins=20, \n",
    "                   title='Distribution of Total Price')\n",
    "fig.show()\n",
    "\n",
    "fig = px.box(data, \n",
    "             y='unit_price', \n",
    "             title='Box Plot of Unit Price')\n",
    "fig.show()\n",
    "\n",
    "fig = px.scatter(data, \n",
    "                 x='qty', \n",
    "                 y='total_price', \n",
    "                 title='Quantity vs Total Price', trendline=\"ols\")\n",
    "fig.show()\n",
    "\n",
    "fig = px.bar(data, x='product_category_name', \n",
    "             y='total_price', \n",
    "             title='Average Total Price by Product Category')\n",
    "fig.show()\n",
    "\n",
    "fig = px.box(data, x='weekday', \n",
    "             y='total_price', \n",
    "             title='Box Plot of Total Price by Weekday')\n",
    "fig.show()\n",
    "\n",
    "\n",
    "numeric_data = data.select_dtypes(include=['float64', 'int64'])\n",
    "correlation_matrix = numeric_data.corr()\n",
    "fig = go.Figure(go.Heatmap(x=correlation_matrix.columns, \n",
    "                           y=correlation_matrix.columns, \n",
    "                           z=correlation_matrix.values))\n",
    "fig.update_layout(title='Correlation Heatmap of Numerical Features')\n",
    "fig.show()\n",
    "\n",
    "#average competitor price difference by product category:\n",
    "\n"
   ]
  }
 ],
 "metadata": {
  "kernelspec": {
   "display_name": "Python 3 (ipykernel)",
   "language": "python",
   "name": "python3"
  },
  "orig_nbformat": 4
 },
 "nbformat": 4,
 "nbformat_minor": 2
}
